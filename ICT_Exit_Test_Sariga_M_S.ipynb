{
 "cells": [
  {
   "cell_type": "markdown",
   "metadata": {},
   "source": [
    "**Submitted By:** _Sariga M S_<br>\n",
    "**Date:** _August 13,2023_"
   ]
  },
  {
   "cell_type": "markdown",
   "metadata": {},
   "source": [
    "<div style=\"text-align: center;\">\n",
    "    <h1>Certified Specialist in Machine Learning and Artificial Intelligence</h1>\n",
    "</div>"
   ]
  },
  {
   "cell_type": "markdown",
   "metadata": {},
   "source": [
    "<div style=\"text-align: center;\">\n",
    "    <h1>Coding Test</h1>\n",
    "</div>"
   ]
  },
  {
   "cell_type": "markdown",
   "metadata": {},
   "source": [
    "<div style=\"text-align: center;\">\n",
    "    <h1>Sentiment Analysis on Movie Reviews</h1>\n",
    "</div>"
   ]
  },
  {
   "cell_type": "markdown",
   "metadata": {},
   "source": [
    "Movie review dataset of a popular review site is given:<br>\n",
    "The sentiment of reviews is binary, meaning the rating < 5 results in a sentiment \n",
    "score of 0, and rating >=7 have a sentiment score of 1. No individual movie has \n",
    "more than 30 reviews. \n",
    "Data fields<br>\n",
    "• id - Unique ID of each review<br>\n",
    "• sentiment - Sentiment of the review; 1 for positive reviews and 0 for negative \n",
    "reviews<br>\n",
    "• review - Text of the review<br>\n",
    "Build a sentiment analysis model to classify movie reviews as positive or negative \n",
    "based on the text content. Utilize techniques such as word embeddings, word to \n",
    "vec, Bag of words etc. <br>\n",
    "To accomplish this, you need to follow the below steps:<br>\n",
    "• Data Preprocessing:<br>\n",
    "• Feature Extraction:<br>\n",
    "• Model Building and Evaluation:<br>\n",
    "• Evaluate the model's performance <br>\n",
    "• Give headings and detailed description to each step you are doing.<br>\n",
    "• Create a repository in GitHub account as \"Public\".<br>\n",
    "• Upload the notebook file (. ipynb) to the repository.<br>\n",
    "• Please make sure that you are uploading the notebook file including the\n",
    "outputs as well.<br>\n",
    "• Share the link of this notebook from GitHub in the online text editor provided in \n",
    "Paatshala.<br>\n",
    "• Click here for the dataset. <br>\n",
    "NB: Tab separated file is given. Use sep=”\\t” while reading the dataset. "
   ]
  },
  {
   "cell_type": "code",
   "execution_count": 43,
   "metadata": {},
   "outputs": [],
   "source": [
    "import nltk\n",
    "from nltk.corpus import stopwords\n",
    "from nltk.tokenize import word_tokenize\n",
    "import string\n",
    "import pandas as pd\n",
    "import re"
   ]
  },
  {
   "cell_type": "code",
   "execution_count": 44,
   "metadata": {},
   "outputs": [],
   "source": [
    "# Lodaing the dataset"
   ]
  },
  {
   "cell_type": "code",
   "execution_count": 45,
   "metadata": {},
   "outputs": [
    {
     "name": "stdout",
     "output_type": "stream",
     "text": [
      "       id  sentiment                                             review\n",
      "0  5814_8          1  With all this stuff going down at the moment w...\n",
      "1  2381_9          1  \\The Classic War of the Worlds\\\" by Timothy Hi...\n",
      "2  7759_3          0  The film starts with a manager (Nicholas Bell)...\n",
      "3  3630_4          0  It must be assumed that those who praised this...\n",
      "4  9495_8          1  Superbly trashy and wondrously unpretentious 8...\n"
     ]
    }
   ],
   "source": [
    "import pandas as pd\n",
    "\n",
    "file_path = r\"C:\\Users\\Dell\\Downloads\\labeledTrainData.tsv\"\n",
    "df = pd.read_csv(file_path, delimiter='\\t')\n",
    "print(df.head()) "
   ]
  },
  {
   "cell_type": "markdown",
   "metadata": {},
   "source": [
    "## Exploratory Data Analysis"
   ]
  },
  {
   "cell_type": "code",
   "execution_count": 46,
   "metadata": {},
   "outputs": [
    {
     "name": "stdout",
     "output_type": "stream",
     "text": [
      "<class 'pandas.core.frame.DataFrame'>\n",
      "RangeIndex: 25000 entries, 0 to 24999\n",
      "Data columns (total 3 columns):\n",
      " #   Column     Non-Null Count  Dtype \n",
      "---  ------     --------------  ----- \n",
      " 0   id         25000 non-null  object\n",
      " 1   sentiment  25000 non-null  int64 \n",
      " 2   review     25000 non-null  object\n",
      "dtypes: int64(1), object(2)\n",
      "memory usage: 586.1+ KB\n"
     ]
    }
   ],
   "source": [
    "df.info()"
   ]
  },
  {
   "cell_type": "code",
   "execution_count": 47,
   "metadata": {},
   "outputs": [
    {
     "data": {
      "text/plain": [
       "id           object\n",
       "sentiment     int64\n",
       "review       object\n",
       "dtype: object"
      ]
     },
     "execution_count": 47,
     "metadata": {},
     "output_type": "execute_result"
    }
   ],
   "source": [
    "df.dtypes"
   ]
  },
  {
   "cell_type": "code",
   "execution_count": 48,
   "metadata": {},
   "outputs": [
    {
     "data": {
      "text/plain": [
       "1    12500\n",
       "0    12500\n",
       "Name: sentiment, dtype: int64"
      ]
     },
     "execution_count": 48,
     "metadata": {},
     "output_type": "execute_result"
    }
   ],
   "source": [
    "df['sentiment'].value_counts()"
   ]
  },
  {
   "cell_type": "markdown",
   "metadata": {},
   "source": [
    "Values of sentiment are in binary format. It is a well balanced dataset"
   ]
  },
  {
   "cell_type": "code",
   "execution_count": 49,
   "metadata": {},
   "outputs": [],
   "source": [
    "# checking for missing values"
   ]
  },
  {
   "cell_type": "code",
   "execution_count": 50,
   "metadata": {},
   "outputs": [
    {
     "data": {
      "text/plain": [
       "id           0\n",
       "sentiment    0\n",
       "review       0\n",
       "dtype: int64"
      ]
     },
     "execution_count": 50,
     "metadata": {},
     "output_type": "execute_result"
    }
   ],
   "source": [
    "df.isna().sum()"
   ]
  },
  {
   "cell_type": "markdown",
   "metadata": {},
   "source": [
    "## Data preprocessing"
   ]
  },
  {
   "cell_type": "markdown",
   "metadata": {},
   "source": [
    "Removing punctuation, special characters and converting text into lower case"
   ]
  },
  {
   "cell_type": "code",
   "execution_count": 51,
   "metadata": {},
   "outputs": [
    {
     "name": "stdout",
     "output_type": "stream",
     "text": [
      "0        with all this stuff going down at the moment w...\n",
      "1        the classic war of the worlds by timothy hines...\n",
      "2        the film starts with a manager nicholas bell g...\n",
      "3        it must be assumed that those who praised this...\n",
      "4        superbly trashy and wondrously unpretentious s...\n",
      "                               ...                        \n",
      "24995    it seems like more consideration has gone into...\n",
      "24996    i dont believe they made this film completely ...\n",
      "24997    guy is a loser cant get girls needs to build u...\n",
      "24998    this  minute documentary buñuel made in the ea...\n",
      "24999    i saw this movie as a child and it broke my he...\n",
      "Name: review, Length: 25000, dtype: object\n"
     ]
    }
   ],
   "source": [
    "def preprocess_text(text):\n",
    "    # Remove punctuation and special characters\n",
    "    text = re.sub(r'[^\\w\\s]', '', text)\n",
    "    text = re.sub(r'\\d+', '', text)\n",
    "    # Convert to lowercase\n",
    "    text = text.lower()\n",
    "    return text\n",
    "\n",
    "# Apply preprocessing function to the 'review' column\n",
    "df['review'] = df['review'].apply(preprocess_text)\n",
    "print(df['review'])"
   ]
  },
  {
   "cell_type": "markdown",
   "metadata": {},
   "source": [
    "### Removing stop words"
   ]
  },
  {
   "cell_type": "code",
   "execution_count": 52,
   "metadata": {},
   "outputs": [
    {
     "name": "stdout",
     "output_type": "stream",
     "text": [
      "0        stuff going moment mj ive started listening mu...\n",
      "1        classic war worlds timothy hines entertaining ...\n",
      "2        film starts manager nicholas bell giving welco...\n",
      "3        must assumed praised film greatest filmed oper...\n",
      "4        superbly trashy wondrously unpretentious explo...\n",
      "                               ...                        \n",
      "24995    seems like consideration gone imdb reviews fil...\n",
      "24996    dont believe made film completely unnecessary ...\n",
      "24997    guy loser cant get girls needs build picked st...\n",
      "24998    minute documentary buñuel made early one spain...\n",
      "24999    saw movie child broke heart story unfinished e...\n",
      "Name: review, Length: 25000, dtype: object\n"
     ]
    }
   ],
   "source": [
    "from nltk.corpus import stopwords\n",
    "\n",
    "def remove_stopwords(tokens):\n",
    "    stop_words = set(stopwords.words('english'))\n",
    "    filtered_tokens = [token for token in tokens if token.lower() not in stop_words]\n",
    "    return filtered_tokens\n",
    "\n",
    "df['review'] = df['review'].apply(lambda text: ' '.join(remove_stopwords(text.split())))\n",
    "print(df['review'])"
   ]
  },
  {
   "cell_type": "markdown",
   "metadata": {},
   "source": [
    "### Stemming"
   ]
  },
  {
   "cell_type": "code",
   "execution_count": 53,
   "metadata": {},
   "outputs": [
    {
     "name": "stdout",
     "output_type": "stream",
     "text": [
      "0        stuff go moment mj ive start listen music watc...\n",
      "1        classic war world timothi hine entertain film ...\n",
      "2        film start manag nichola bell give welcom inve...\n",
      "3        must assum prais film greatest film opera ever...\n",
      "4        superbl trashi wondrous unpretenti exploit hoo...\n",
      "                               ...                        \n",
      "24995    seem like consider gone imdb review film went ...\n",
      "24996    dont believ made film complet unnecessari firs...\n",
      "24997    guy loser cant get girl need build pick strong...\n",
      "24998    minut documentari buñuel made earli one spain ...\n",
      "24999    saw movi child broke heart stori unfinish end ...\n",
      "Name: review, Length: 25000, dtype: object\n"
     ]
    }
   ],
   "source": [
    "from nltk.stem import PorterStemmer\n",
    "\n",
    "def apply_stemming(tokens):\n",
    "    stemmer = PorterStemmer()\n",
    "    stemmed_tokens = [stemmer.stem(token) for token in tokens]\n",
    "    return stemmed_tokens\n",
    "\n",
    "df['review'] = df['review'].apply(lambda text: ' '.join(apply_stemming(text.split())))\n",
    "print(df['review'])"
   ]
  },
  {
   "cell_type": "markdown",
   "metadata": {},
   "source": [
    "### Lemmatization"
   ]
  },
  {
   "cell_type": "code",
   "execution_count": 54,
   "metadata": {},
   "outputs": [
    {
     "name": "stdout",
     "output_type": "stream",
     "text": [
      "0        stuff go moment mj ive start listen music watc...\n",
      "1        classic war world timothi hine entertain film ...\n",
      "2        film start manag nichola bell give welcom inve...\n",
      "3        must assum prais film greatest film opera ever...\n",
      "4        superbl trashi wondrous unpretenti exploit hoo...\n",
      "                               ...                        \n",
      "24995    seem like consider gone imdb review film went ...\n",
      "24996    dont believ made film complet unnecessari firs...\n",
      "24997    guy loser cant get girl need build pick strong...\n",
      "24998    minut documentari buñuel made earli one spain ...\n",
      "24999    saw movi child broke heart stori unfinish end ...\n",
      "Name: review, Length: 25000, dtype: object\n"
     ]
    }
   ],
   "source": [
    "from nltk.stem import WordNetLemmatizer\n",
    "\n",
    "def apply_lemmatization(tokens):\n",
    "    lemmatizer = WordNetLemmatizer()\n",
    "    lemmatized_tokens = [lemmatizer.lemmatize(token) for token in tokens]\n",
    "    return lemmatized_tokens\n",
    "\n",
    "\n",
    "df['review'] = df['review'].apply(lambda text: ' '.join(apply_lemmatization(text.split())))\n",
    "print(df['review'])"
   ]
  },
  {
   "cell_type": "code",
   "execution_count": 13,
   "metadata": {},
   "outputs": [],
   "source": [
    "#### Tokenization using custom tokenizer"
   ]
  },
  {
   "cell_type": "code",
   "execution_count": 14,
   "metadata": {},
   "outputs": [],
   "source": [
    "# def custom_tokenizer(text):\n",
    "#     # Split the text into tokens\n",
    "#     tokens = text.split()\n",
    "#     return tokens\n",
    "# tokens = custom_tokenizer(re)\n",
    "# print(tokens)"
   ]
  },
  {
   "cell_type": "markdown",
   "metadata": {},
   "source": [
    "# Feature Extraction, Model Building and Evaluation"
   ]
  },
  {
   "cell_type": "code",
   "execution_count": 55,
   "metadata": {},
   "outputs": [],
   "source": [
    "X = df['review']\n",
    "y = df['sentiment']"
   ]
  },
  {
   "cell_type": "code",
   "execution_count": 16,
   "metadata": {},
   "outputs": [
    {
     "name": "stdout",
     "output_type": "stream",
     "text": [
      "0        stuff go moment mj ive start listen music watc...\n",
      "1        classic war world timothi hine entertain film ...\n",
      "2        film start manag nichola bell give welcom inve...\n",
      "3        must assum prais film greatest film opera ever...\n",
      "4        superbl trashi wondrous unpretenti exploit hoo...\n",
      "                               ...                        \n",
      "24995    seem like consider gone imdb review film went ...\n",
      "24996    dont believ made film complet unnecessari firs...\n",
      "24997    guy loser cant get girl need build pick strong...\n",
      "24998    minut documentari buñuel made earli one spain ...\n",
      "24999    saw movi child broke heart stori unfinish end ...\n",
      "Name: review, Length: 25000, dtype: object\n"
     ]
    }
   ],
   "source": [
    "print(X)"
   ]
  },
  {
   "cell_type": "code",
   "execution_count": 17,
   "metadata": {},
   "outputs": [
    {
     "name": "stdout",
     "output_type": "stream",
     "text": [
      "0        1\n",
      "1        1\n",
      "2        0\n",
      "3        0\n",
      "4        1\n",
      "        ..\n",
      "24995    0\n",
      "24996    0\n",
      "24997    0\n",
      "24998    0\n",
      "24999    1\n",
      "Name: sentiment, Length: 25000, dtype: int64\n"
     ]
    }
   ],
   "source": [
    "print(y)"
   ]
  },
  {
   "cell_type": "code",
   "execution_count": 18,
   "metadata": {},
   "outputs": [],
   "source": [
    "# splitting the dataset"
   ]
  },
  {
   "cell_type": "code",
   "execution_count": 19,
   "metadata": {},
   "outputs": [],
   "source": [
    "from sklearn.model_selection import train_test_split\n",
    "X_train,X_test,y_train,y_test = train_test_split(X,y,test_size=0.2,random_state=1)"
   ]
  },
  {
   "cell_type": "markdown",
   "metadata": {},
   "source": [
    "## Applying Bag of Words"
   ]
  },
  {
   "cell_type": "code",
   "execution_count": 20,
   "metadata": {},
   "outputs": [],
   "source": [
    "from sklearn.feature_extraction.text import CountVectorizer\n",
    "# Initialize the CountVectorizer\n",
    "vectorizer = CountVectorizer(max_features=10000)\n",
    "# Fit and transform the training data\n",
    "X_train_bow = vectorizer.fit_transform(X_train)\n",
    "# Transform the testing data using the same vectorizer\n",
    "X_test_bow = vectorizer.transform(X_test)"
   ]
  },
  {
   "cell_type": "code",
   "execution_count": 21,
   "metadata": {},
   "outputs": [
    {
     "data": {
      "text/plain": [
       "(20000, 10000)"
      ]
     },
     "execution_count": 21,
     "metadata": {},
     "output_type": "execute_result"
    }
   ],
   "source": [
    "X_train_bow.shape "
   ]
  },
  {
   "cell_type": "markdown",
   "metadata": {},
   "source": [
    "We have 20,000 samples (reviews) and 107,291 features (unique words) in our training set"
   ]
  },
  {
   "cell_type": "markdown",
   "metadata": {},
   "source": [
    "### Implementing Random Forest"
   ]
  },
  {
   "cell_type": "code",
   "execution_count": 22,
   "metadata": {},
   "outputs": [],
   "source": [
    "from sklearn.ensemble import RandomForestClassifier\n",
    "rf = RandomForestClassifier()\n",
    "rf.fit(X_train_bow,y_train)\n",
    "y_pred_rf = rf.predict(X_test_bow)"
   ]
  },
  {
   "cell_type": "code",
   "execution_count": 23,
   "metadata": {},
   "outputs": [
    {
     "name": "stdout",
     "output_type": "stream",
     "text": [
      "Accuracy : 0.8442\n",
      "Confusion matrix : [[2122  381]\n",
      " [ 398 2099]]\n"
     ]
    }
   ],
   "source": [
    "from sklearn.metrics import accuracy_score,confusion_matrix\n",
    "print(\"Accuracy :\",accuracy_score(y_test,y_pred_rf))\n",
    "print(\"Confusion matrix :\",confusion_matrix(y_test,y_pred_rf))"
   ]
  },
  {
   "cell_type": "markdown",
   "metadata": {},
   "source": [
    "### Implementing Logistic Regression"
   ]
  },
  {
   "cell_type": "code",
   "execution_count": 24,
   "metadata": {},
   "outputs": [
    {
     "name": "stderr",
     "output_type": "stream",
     "text": [
      "C:\\Users\\Dell\\AppData\\Roaming\\Python\\Python38\\site-packages\\sklearn\\linear_model\\_logistic.py:458: ConvergenceWarning: lbfgs failed to converge (status=1):\n",
      "STOP: TOTAL NO. of ITERATIONS REACHED LIMIT.\n",
      "\n",
      "Increase the number of iterations (max_iter) or scale the data as shown in:\n",
      "    https://scikit-learn.org/stable/modules/preprocessing.html\n",
      "Please also refer to the documentation for alternative solver options:\n",
      "    https://scikit-learn.org/stable/modules/linear_model.html#logistic-regression\n",
      "  n_iter_i = _check_optimize_result(\n"
     ]
    },
    {
     "data": {
      "text/html": [
       "<style>#sk-container-id-1 {color: black;background-color: white;}#sk-container-id-1 pre{padding: 0;}#sk-container-id-1 div.sk-toggleable {background-color: white;}#sk-container-id-1 label.sk-toggleable__label {cursor: pointer;display: block;width: 100%;margin-bottom: 0;padding: 0.3em;box-sizing: border-box;text-align: center;}#sk-container-id-1 label.sk-toggleable__label-arrow:before {content: \"▸\";float: left;margin-right: 0.25em;color: #696969;}#sk-container-id-1 label.sk-toggleable__label-arrow:hover:before {color: black;}#sk-container-id-1 div.sk-estimator:hover label.sk-toggleable__label-arrow:before {color: black;}#sk-container-id-1 div.sk-toggleable__content {max-height: 0;max-width: 0;overflow: hidden;text-align: left;background-color: #f0f8ff;}#sk-container-id-1 div.sk-toggleable__content pre {margin: 0.2em;color: black;border-radius: 0.25em;background-color: #f0f8ff;}#sk-container-id-1 input.sk-toggleable__control:checked~div.sk-toggleable__content {max-height: 200px;max-width: 100%;overflow: auto;}#sk-container-id-1 input.sk-toggleable__control:checked~label.sk-toggleable__label-arrow:before {content: \"▾\";}#sk-container-id-1 div.sk-estimator input.sk-toggleable__control:checked~label.sk-toggleable__label {background-color: #d4ebff;}#sk-container-id-1 div.sk-label input.sk-toggleable__control:checked~label.sk-toggleable__label {background-color: #d4ebff;}#sk-container-id-1 input.sk-hidden--visually {border: 0;clip: rect(1px 1px 1px 1px);clip: rect(1px, 1px, 1px, 1px);height: 1px;margin: -1px;overflow: hidden;padding: 0;position: absolute;width: 1px;}#sk-container-id-1 div.sk-estimator {font-family: monospace;background-color: #f0f8ff;border: 1px dotted black;border-radius: 0.25em;box-sizing: border-box;margin-bottom: 0.5em;}#sk-container-id-1 div.sk-estimator:hover {background-color: #d4ebff;}#sk-container-id-1 div.sk-parallel-item::after {content: \"\";width: 100%;border-bottom: 1px solid gray;flex-grow: 1;}#sk-container-id-1 div.sk-label:hover label.sk-toggleable__label {background-color: #d4ebff;}#sk-container-id-1 div.sk-serial::before {content: \"\";position: absolute;border-left: 1px solid gray;box-sizing: border-box;top: 0;bottom: 0;left: 50%;z-index: 0;}#sk-container-id-1 div.sk-serial {display: flex;flex-direction: column;align-items: center;background-color: white;padding-right: 0.2em;padding-left: 0.2em;position: relative;}#sk-container-id-1 div.sk-item {position: relative;z-index: 1;}#sk-container-id-1 div.sk-parallel {display: flex;align-items: stretch;justify-content: center;background-color: white;position: relative;}#sk-container-id-1 div.sk-item::before, #sk-container-id-1 div.sk-parallel-item::before {content: \"\";position: absolute;border-left: 1px solid gray;box-sizing: border-box;top: 0;bottom: 0;left: 50%;z-index: -1;}#sk-container-id-1 div.sk-parallel-item {display: flex;flex-direction: column;z-index: 1;position: relative;background-color: white;}#sk-container-id-1 div.sk-parallel-item:first-child::after {align-self: flex-end;width: 50%;}#sk-container-id-1 div.sk-parallel-item:last-child::after {align-self: flex-start;width: 50%;}#sk-container-id-1 div.sk-parallel-item:only-child::after {width: 0;}#sk-container-id-1 div.sk-dashed-wrapped {border: 1px dashed gray;margin: 0 0.4em 0.5em 0.4em;box-sizing: border-box;padding-bottom: 0.4em;background-color: white;}#sk-container-id-1 div.sk-label label {font-family: monospace;font-weight: bold;display: inline-block;line-height: 1.2em;}#sk-container-id-1 div.sk-label-container {text-align: center;}#sk-container-id-1 div.sk-container {/* jupyter's `normalize.less` sets `[hidden] { display: none; }` but bootstrap.min.css set `[hidden] { display: none !important; }` so we also need the `!important` here to be able to override the default hidden behavior on the sphinx rendered scikit-learn.org. See: https://github.com/scikit-learn/scikit-learn/issues/21755 */display: inline-block !important;position: relative;}#sk-container-id-1 div.sk-text-repr-fallback {display: none;}</style><div id=\"sk-container-id-1\" class=\"sk-top-container\"><div class=\"sk-text-repr-fallback\"><pre>LogisticRegression()</pre><b>In a Jupyter environment, please rerun this cell to show the HTML representation or trust the notebook. <br />On GitHub, the HTML representation is unable to render, please try loading this page with nbviewer.org.</b></div><div class=\"sk-container\" hidden><div class=\"sk-item\"><div class=\"sk-estimator sk-toggleable\"><input class=\"sk-toggleable__control sk-hidden--visually\" id=\"sk-estimator-id-1\" type=\"checkbox\" checked><label for=\"sk-estimator-id-1\" class=\"sk-toggleable__label sk-toggleable__label-arrow\">LogisticRegression</label><div class=\"sk-toggleable__content\"><pre>LogisticRegression()</pre></div></div></div></div></div>"
      ],
      "text/plain": [
       "LogisticRegression()"
      ]
     },
     "execution_count": 24,
     "metadata": {},
     "output_type": "execute_result"
    }
   ],
   "source": [
    "from sklearn.linear_model import LogisticRegression\n",
    "logreg_model = LogisticRegression()\n",
    "logreg_model.fit(X_train_bow, y_train)"
   ]
  },
  {
   "cell_type": "code",
   "execution_count": 25,
   "metadata": {},
   "outputs": [
    {
     "name": "stdout",
     "output_type": "stream",
     "text": [
      "Accuracy : 0.862\n",
      "Confusion matrix : [[2162  341]\n",
      " [ 349 2148]]\n"
     ]
    }
   ],
   "source": [
    "y_pred_logreg = logreg_model.predict(X_test_bow)\n",
    "print(\"Accuracy :\",accuracy_score(y_test,y_pred_logreg))\n",
    "print(\"Confusion matrix :\",confusion_matrix(y_test,y_pred_logreg))"
   ]
  },
  {
   "cell_type": "markdown",
   "metadata": {},
   "source": [
    "### Visualising the results"
   ]
  },
  {
   "cell_type": "code",
   "execution_count": 26,
   "metadata": {},
   "outputs": [
    {
     "data": {
      "image/png": "[encoded data removed]",
      "text/plain": [
       "<Figure size 432x288 with 1 Axes>"
      ]
     },
     "metadata": {
      "needs_background": "light"
     },
     "output_type": "display_data"
    }
   ],
   "source": [
    "import matplotlib.pyplot as plt\n",
    "import seaborn as sns\n",
    "\n",
    "# Count the number of positive and negative predictions\n",
    "positive_count_rf = sum(y_pred_rf)\n",
    "negative_count_rf = len(y_pred_rf) - positive_count_rf\n",
    "\n",
    "positive_count_logreg = sum(y_pred_logreg)\n",
    "negative_count_logreg = len(y_pred_logreg) - positive_count_logreg\n",
    "\n",
    "# Create a bar plot\n",
    "labels = ['Random Forest', 'Logistic Regression']\n",
    "positive_counts = [positive_count_rf, positive_count_logreg]\n",
    "negative_counts = [negative_count_rf, negative_count_logreg]\n",
    "\n",
    "x = range(len(labels))\n",
    "\n",
    "plt.bar(x, positive_counts, label='Positive')\n",
    "plt.bar(x, negative_counts, bottom=positive_counts, label='Negative')\n",
    "\n",
    "plt.xlabel('Models')\n",
    "plt.ylabel('Count')\n",
    "plt.title('Sentiment Distribution')\n",
    "plt.xticks(x, labels)\n",
    "plt.legend()\n",
    "plt.show()"
   ]
  },
  {
   "cell_type": "code",
   "execution_count": 27,
   "metadata": {},
   "outputs": [
    {
     "name": "stdout",
     "output_type": "stream",
     "text": [
      "Classification Report for Random Forest Model:\n",
      "              precision    recall  f1-score   support\n",
      "\n",
      "           0       0.84      0.85      0.84      2503\n",
      "           1       0.85      0.84      0.84      2497\n",
      "\n",
      "    accuracy                           0.84      5000\n",
      "   macro avg       0.84      0.84      0.84      5000\n",
      "weighted avg       0.84      0.84      0.84      5000\n",
      "\n",
      "Classification Report for Logistic Regression Model:\n",
      "              precision    recall  f1-score   support\n",
      "\n",
      "           0       0.86      0.86      0.86      2503\n",
      "           1       0.86      0.86      0.86      2497\n",
      "\n",
      "    accuracy                           0.86      5000\n",
      "   macro avg       0.86      0.86      0.86      5000\n",
      "weighted avg       0.86      0.86      0.86      5000\n",
      "\n"
     ]
    }
   ],
   "source": [
    "from sklearn.metrics import classification_report\n",
    "\n",
    "# Print classification report for RF model\n",
    "print(\"Classification Report for Random Forest Model:\")\n",
    "print(classification_report(y_test, y_pred_rf))\n",
    "\n",
    "# Print classification report for LogReg model\n",
    "print(\"Classification Report for Logistic Regression Model:\")\n",
    "print(classification_report(y_test, y_pred_logreg))"
   ]
  },
  {
   "cell_type": "markdown",
   "metadata": {},
   "source": [
    "## Implementing Word2vec"
   ]
  },
  {
   "cell_type": "code",
   "execution_count": 28,
   "metadata": {},
   "outputs": [
    {
     "ename": "ModuleNotFoundError",
     "evalue": "No module named 'genism'",
     "output_type": "error",
     "traceback": [
      "\u001b[1;31m---------------------------------------------------------------------------\u001b[0m",
      "\u001b[1;31mModuleNotFoundError\u001b[0m                       Traceback (most recent call last)",
      "\u001b[1;32m<ipython-input-28-e8cc55dfb98e>\u001b[0m in \u001b[0;36m<module>\u001b[1;34m\u001b[0m\n\u001b[1;32m----> 1\u001b[1;33m \u001b[1;32mimport\u001b[0m \u001b[0mgenism\u001b[0m\u001b[1;33m\u001b[0m\u001b[1;33m\u001b[0m\u001b[0m\n\u001b[0m",
      "\u001b[1;31mModuleNotFoundError\u001b[0m: No module named 'genism'"
     ]
    }
   ],
   "source": [
    "import genism"
   ]
  },
  {
   "cell_type": "code",
   "execution_count": null,
   "metadata": {},
   "outputs": [],
   "source": [
    "from gensim.models import Word2Vec\n",
    "from tensorflow.keras.preprocessing.text import Tokenizer\n",
    "from tensorflow.keras.preprocessing.sequence import pad_sequences"
   ]
  },
  {
   "cell_type": "markdown",
   "metadata": {},
   "source": [
    "I installed genism. Still its not working"
   ]
  },
  {
   "cell_type": "markdown",
   "metadata": {},
   "source": [
    "## Implementing Tf-Idf"
   ]
  },
  {
   "cell_type": "code",
   "execution_count": 29,
   "metadata": {},
   "outputs": [],
   "source": [
    "from sklearn.feature_extraction.text import TfidfVectorizer"
   ]
  },
  {
   "cell_type": "code",
   "execution_count": 30,
   "metadata": {},
   "outputs": [],
   "source": [
    "# Split the data into training and testing sets\n",
    "X_train_tfidf, X_test_tfidf, y_train_tfidf, y_test_tfidf = train_test_split(X, y, test_size=0.2, random_state=42)"
   ]
  },
  {
   "cell_type": "code",
   "execution_count": 31,
   "metadata": {},
   "outputs": [],
   "source": [
    "# Initialize TF-IDF vectorizer\n",
    "tfidf_vectorizer = TfidfVectorizer(max_features=10000, stop_words='english')\n",
    "# Fit and transform the training data\n",
    "X_train_tfidf = tfidf_vectorizer.fit_transform(X_train_tfidf)\n",
    "# Transform the testing data \n",
    "X_test_tfidf = tfidf_vectorizer.transform(X_test_tfidf)"
   ]
  },
  {
   "cell_type": "markdown",
   "metadata": {},
   "source": [
    "### Implementing Random Forest"
   ]
  },
  {
   "cell_type": "code",
   "execution_count": 32,
   "metadata": {},
   "outputs": [
    {
     "data": {
      "text/html": [
       "<style>#sk-container-id-2 {color: black;background-color: white;}#sk-container-id-2 pre{padding: 0;}#sk-container-id-2 div.sk-toggleable {background-color: white;}#sk-container-id-2 label.sk-toggleable__label {cursor: pointer;display: block;width: 100%;margin-bottom: 0;padding: 0.3em;box-sizing: border-box;text-align: center;}#sk-container-id-2 label.sk-toggleable__label-arrow:before {content: \"▸\";float: left;margin-right: 0.25em;color: #696969;}#sk-container-id-2 label.sk-toggleable__label-arrow:hover:before {color: black;}#sk-container-id-2 div.sk-estimator:hover label.sk-toggleable__label-arrow:before {color: black;}#sk-container-id-2 div.sk-toggleable__content {max-height: 0;max-width: 0;overflow: hidden;text-align: left;background-color: #f0f8ff;}#sk-container-id-2 div.sk-toggleable__content pre {margin: 0.2em;color: black;border-radius: 0.25em;background-color: #f0f8ff;}#sk-container-id-2 input.sk-toggleable__control:checked~div.sk-toggleable__content {max-height: 200px;max-width: 100%;overflow: auto;}#sk-container-id-2 input.sk-toggleable__control:checked~label.sk-toggleable__label-arrow:before {content: \"▾\";}#sk-container-id-2 div.sk-estimator input.sk-toggleable__control:checked~label.sk-toggleable__label {background-color: #d4ebff;}#sk-container-id-2 div.sk-label input.sk-toggleable__control:checked~label.sk-toggleable__label {background-color: #d4ebff;}#sk-container-id-2 input.sk-hidden--visually {border: 0;clip: rect(1px 1px 1px 1px);clip: rect(1px, 1px, 1px, 1px);height: 1px;margin: -1px;overflow: hidden;padding: 0;position: absolute;width: 1px;}#sk-container-id-2 div.sk-estimator {font-family: monospace;background-color: #f0f8ff;border: 1px dotted black;border-radius: 0.25em;box-sizing: border-box;margin-bottom: 0.5em;}#sk-container-id-2 div.sk-estimator:hover {background-color: #d4ebff;}#sk-container-id-2 div.sk-parallel-item::after {content: \"\";width: 100%;border-bottom: 1px solid gray;flex-grow: 1;}#sk-container-id-2 div.sk-label:hover label.sk-toggleable__label {background-color: #d4ebff;}#sk-container-id-2 div.sk-serial::before {content: \"\";position: absolute;border-left: 1px solid gray;box-sizing: border-box;top: 0;bottom: 0;left: 50%;z-index: 0;}#sk-container-id-2 div.sk-serial {display: flex;flex-direction: column;align-items: center;background-color: white;padding-right: 0.2em;padding-left: 0.2em;position: relative;}#sk-container-id-2 div.sk-item {position: relative;z-index: 1;}#sk-container-id-2 div.sk-parallel {display: flex;align-items: stretch;justify-content: center;background-color: white;position: relative;}#sk-container-id-2 div.sk-item::before, #sk-container-id-2 div.sk-parallel-item::before {content: \"\";position: absolute;border-left: 1px solid gray;box-sizing: border-box;top: 0;bottom: 0;left: 50%;z-index: -1;}#sk-container-id-2 div.sk-parallel-item {display: flex;flex-direction: column;z-index: 1;position: relative;background-color: white;}#sk-container-id-2 div.sk-parallel-item:first-child::after {align-self: flex-end;width: 50%;}#sk-container-id-2 div.sk-parallel-item:last-child::after {align-self: flex-start;width: 50%;}#sk-container-id-2 div.sk-parallel-item:only-child::after {width: 0;}#sk-container-id-2 div.sk-dashed-wrapped {border: 1px dashed gray;margin: 0 0.4em 0.5em 0.4em;box-sizing: border-box;padding-bottom: 0.4em;background-color: white;}#sk-container-id-2 div.sk-label label {font-family: monospace;font-weight: bold;display: inline-block;line-height: 1.2em;}#sk-container-id-2 div.sk-label-container {text-align: center;}#sk-container-id-2 div.sk-container {/* jupyter's `normalize.less` sets `[hidden] { display: none; }` but bootstrap.min.css set `[hidden] { display: none !important; }` so we also need the `!important` here to be able to override the default hidden behavior on the sphinx rendered scikit-learn.org. See: https://github.com/scikit-learn/scikit-learn/issues/21755 */display: inline-block !important;position: relative;}#sk-container-id-2 div.sk-text-repr-fallback {display: none;}</style><div id=\"sk-container-id-2\" class=\"sk-top-container\"><div class=\"sk-text-repr-fallback\"><pre>RandomForestClassifier()</pre><b>In a Jupyter environment, please rerun this cell to show the HTML representation or trust the notebook. <br />On GitHub, the HTML representation is unable to render, please try loading this page with nbviewer.org.</b></div><div class=\"sk-container\" hidden><div class=\"sk-item\"><div class=\"sk-estimator sk-toggleable\"><input class=\"sk-toggleable__control sk-hidden--visually\" id=\"sk-estimator-id-2\" type=\"checkbox\" checked><label for=\"sk-estimator-id-2\" class=\"sk-toggleable__label sk-toggleable__label-arrow\">RandomForestClassifier</label><div class=\"sk-toggleable__content\"><pre>RandomForestClassifier()</pre></div></div></div></div></div>"
      ],
      "text/plain": [
       "RandomForestClassifier()"
      ]
     },
     "execution_count": 32,
     "metadata": {},
     "output_type": "execute_result"
    }
   ],
   "source": [
    "# Initialize and train Random Forest classifier using TF-IDF features\n",
    "rf_model_tfidf = RandomForestClassifier()\n",
    "rf_model_tfidf.fit(X_train_tfidf, y_train_tfidf)"
   ]
  },
  {
   "cell_type": "code",
   "execution_count": 33,
   "metadata": {},
   "outputs": [],
   "source": [
    "# Predict sentiments on the testing set using the trained models\n",
    "y_pred_rf_tfidf = rf_model_tfidf.predict(X_test_tfidf)"
   ]
  },
  {
   "cell_type": "code",
   "execution_count": 34,
   "metadata": {},
   "outputs": [
    {
     "name": "stdout",
     "output_type": "stream",
     "text": [
      "Random Forest Model with TF-IDF features:\n",
      "Accuracy: 0.845\n",
      "Classification Report:\n",
      "               precision    recall  f1-score   support\n",
      "\n",
      "           0       0.84      0.85      0.85      2481\n",
      "           1       0.85      0.84      0.84      2519\n",
      "\n",
      "    accuracy                           0.84      5000\n",
      "   macro avg       0.85      0.85      0.84      5000\n",
      "weighted avg       0.85      0.84      0.84      5000\n",
      "\n"
     ]
    }
   ],
   "source": [
    "accuracy_rf_tfidf = accuracy_score(y_test_tfidf, y_pred_rf_tfidf)\n",
    "report_rf_tfidf = classification_report(y_test_tfidf, y_pred_rf_tfidf)\n",
    "print(\"Random Forest Model with TF-IDF features:\")\n",
    "print(\"Accuracy:\", accuracy_rf_tfidf)\n",
    "print(\"Classification Report:\\n\", report_rf_tfidf)"
   ]
  },
  {
   "cell_type": "markdown",
   "metadata": {},
   "source": [
    "### Implementing Logistic Regression"
   ]
  },
  {
   "cell_type": "code",
   "execution_count": 35,
   "metadata": {},
   "outputs": [
    {
     "data": {
      "text/html": [
       "<style>#sk-container-id-3 {color: black;background-color: white;}#sk-container-id-3 pre{padding: 0;}#sk-container-id-3 div.sk-toggleable {background-color: white;}#sk-container-id-3 label.sk-toggleable__label {cursor: pointer;display: block;width: 100%;margin-bottom: 0;padding: 0.3em;box-sizing: border-box;text-align: center;}#sk-container-id-3 label.sk-toggleable__label-arrow:before {content: \"▸\";float: left;margin-right: 0.25em;color: #696969;}#sk-container-id-3 label.sk-toggleable__label-arrow:hover:before {color: black;}#sk-container-id-3 div.sk-estimator:hover label.sk-toggleable__label-arrow:before {color: black;}#sk-container-id-3 div.sk-toggleable__content {max-height: 0;max-width: 0;overflow: hidden;text-align: left;background-color: #f0f8ff;}#sk-container-id-3 div.sk-toggleable__content pre {margin: 0.2em;color: black;border-radius: 0.25em;background-color: #f0f8ff;}#sk-container-id-3 input.sk-toggleable__control:checked~div.sk-toggleable__content {max-height: 200px;max-width: 100%;overflow: auto;}#sk-container-id-3 input.sk-toggleable__control:checked~label.sk-toggleable__label-arrow:before {content: \"▾\";}#sk-container-id-3 div.sk-estimator input.sk-toggleable__control:checked~label.sk-toggleable__label {background-color: #d4ebff;}#sk-container-id-3 div.sk-label input.sk-toggleable__control:checked~label.sk-toggleable__label {background-color: #d4ebff;}#sk-container-id-3 input.sk-hidden--visually {border: 0;clip: rect(1px 1px 1px 1px);clip: rect(1px, 1px, 1px, 1px);height: 1px;margin: -1px;overflow: hidden;padding: 0;position: absolute;width: 1px;}#sk-container-id-3 div.sk-estimator {font-family: monospace;background-color: #f0f8ff;border: 1px dotted black;border-radius: 0.25em;box-sizing: border-box;margin-bottom: 0.5em;}#sk-container-id-3 div.sk-estimator:hover {background-color: #d4ebff;}#sk-container-id-3 div.sk-parallel-item::after {content: \"\";width: 100%;border-bottom: 1px solid gray;flex-grow: 1;}#sk-container-id-3 div.sk-label:hover label.sk-toggleable__label {background-color: #d4ebff;}#sk-container-id-3 div.sk-serial::before {content: \"\";position: absolute;border-left: 1px solid gray;box-sizing: border-box;top: 0;bottom: 0;left: 50%;z-index: 0;}#sk-container-id-3 div.sk-serial {display: flex;flex-direction: column;align-items: center;background-color: white;padding-right: 0.2em;padding-left: 0.2em;position: relative;}#sk-container-id-3 div.sk-item {position: relative;z-index: 1;}#sk-container-id-3 div.sk-parallel {display: flex;align-items: stretch;justify-content: center;background-color: white;position: relative;}#sk-container-id-3 div.sk-item::before, #sk-container-id-3 div.sk-parallel-item::before {content: \"\";position: absolute;border-left: 1px solid gray;box-sizing: border-box;top: 0;bottom: 0;left: 50%;z-index: -1;}#sk-container-id-3 div.sk-parallel-item {display: flex;flex-direction: column;z-index: 1;position: relative;background-color: white;}#sk-container-id-3 div.sk-parallel-item:first-child::after {align-self: flex-end;width: 50%;}#sk-container-id-3 div.sk-parallel-item:last-child::after {align-self: flex-start;width: 50%;}#sk-container-id-3 div.sk-parallel-item:only-child::after {width: 0;}#sk-container-id-3 div.sk-dashed-wrapped {border: 1px dashed gray;margin: 0 0.4em 0.5em 0.4em;box-sizing: border-box;padding-bottom: 0.4em;background-color: white;}#sk-container-id-3 div.sk-label label {font-family: monospace;font-weight: bold;display: inline-block;line-height: 1.2em;}#sk-container-id-3 div.sk-label-container {text-align: center;}#sk-container-id-3 div.sk-container {/* jupyter's `normalize.less` sets `[hidden] { display: none; }` but bootstrap.min.css set `[hidden] { display: none !important; }` so we also need the `!important` here to be able to override the default hidden behavior on the sphinx rendered scikit-learn.org. See: https://github.com/scikit-learn/scikit-learn/issues/21755 */display: inline-block !important;position: relative;}#sk-container-id-3 div.sk-text-repr-fallback {display: none;}</style><div id=\"sk-container-id-3\" class=\"sk-top-container\"><div class=\"sk-text-repr-fallback\"><pre>LogisticRegression()</pre><b>In a Jupyter environment, please rerun this cell to show the HTML representation or trust the notebook. <br />On GitHub, the HTML representation is unable to render, please try loading this page with nbviewer.org.</b></div><div class=\"sk-container\" hidden><div class=\"sk-item\"><div class=\"sk-estimator sk-toggleable\"><input class=\"sk-toggleable__control sk-hidden--visually\" id=\"sk-estimator-id-3\" type=\"checkbox\" checked><label for=\"sk-estimator-id-3\" class=\"sk-toggleable__label sk-toggleable__label-arrow\">LogisticRegression</label><div class=\"sk-toggleable__content\"><pre>LogisticRegression()</pre></div></div></div></div></div>"
      ],
      "text/plain": [
       "LogisticRegression()"
      ]
     },
     "execution_count": 35,
     "metadata": {},
     "output_type": "execute_result"
    }
   ],
   "source": [
    "# Initialize and train Logistic Regression classifier using TF-IDF features\n",
    "logreg_model_tfidf = LogisticRegression()\n",
    "logreg_model_tfidf.fit(X_train_tfidf, y_train_tfidf)"
   ]
  },
  {
   "cell_type": "code",
   "execution_count": 36,
   "metadata": {},
   "outputs": [],
   "source": [
    "y_pred_logreg_tfidf = logreg_model_tfidf.predict(X_test_tfidf)"
   ]
  },
  {
   "cell_type": "code",
   "execution_count": 37,
   "metadata": {},
   "outputs": [
    {
     "name": "stdout",
     "output_type": "stream",
     "text": [
      "\n",
      "Logistic Regression Model with TF-IDF features:\n",
      "Accuracy: 0.884\n",
      "Classification Report:\n",
      "               precision    recall  f1-score   support\n",
      "\n",
      "           0       0.89      0.87      0.88      2481\n",
      "           1       0.87      0.90      0.89      2519\n",
      "\n",
      "    accuracy                           0.88      5000\n",
      "   macro avg       0.88      0.88      0.88      5000\n",
      "weighted avg       0.88      0.88      0.88      5000\n",
      "\n"
     ]
    }
   ],
   "source": [
    "accuracy_logreg_tfidf = accuracy_score(y_test_tfidf, y_pred_logreg_tfidf)\n",
    "report_logreg_tfidf = classification_report(y_test_tfidf, y_pred_logreg_tfidf)\n",
    "print(\"\\nLogistic Regression Model with TF-IDF features:\")\n",
    "print(\"Accuracy:\", accuracy_logreg_tfidf)\n",
    "print(\"Classification Report:\\n\", report_logreg_tfidf)"
   ]
  },
  {
   "cell_type": "code",
   "execution_count": 39,
   "metadata": {},
   "outputs": [
    {
     "data": {
      "image/png": "[encoded data removed]",
      "text/plain": [
       "<Figure size 432x288 with 1 Axes>"
      ]
     },
     "metadata": {
      "needs_background": "light"
     },
     "output_type": "display_data"
    }
   ],
   "source": [
    "# Count the number of positive and negative predictions for both models\n",
    "positive_count_rf = sum(y_pred_rf_tfidf)\n",
    "negative_count_rf = len(y_pred_rf_tfidf) - positive_count_rf\n",
    "\n",
    "positive_count_logreg = sum(y_pred_logreg_tfidf)\n",
    "negative_count_logreg = len(y_pred_logreg_tfidf) - positive_count_logreg\n",
    "\n",
    "# Create bar plot to visualize the sentiment distribution\n",
    "labels = ['Random Forest', 'Logistic Regression']\n",
    "positive_counts = [positive_count_rf, positive_count_logreg]\n",
    "negative_counts = [negative_count_rf, negative_count_logreg]\n",
    "\n",
    "x = range(len(labels))\n",
    "\n",
    "plt.bar(x, positive_counts, label='Positive')\n",
    "plt.bar(x, negative_counts, bottom=positive_counts, label='Negative')\n",
    "\n",
    "plt.xlabel('Models')\n",
    "plt.ylabel('Count')\n",
    "plt.title('Sentiment Distribution: Random Forest vs. Logistic Regression (TF-IDF)')\n",
    "plt.xticks(x, labels)\n",
    "plt.legend()\n",
    "plt.show()"
   ]
  },
  {
   "cell_type": "markdown",
   "metadata": {},
   "source": [
    "# Conclusion"
   ]
  },
  {
   "cell_type": "markdown",
   "metadata": {},
   "source": [
    "**It appears that the Logistic Regression models consistently outperform the Random Forest models in terms of accuracy across both TF-IDF and Bag of Words features. Logistic Regression shows slightly higher precision and recall for both positive and negative sentiments, indicating better overall performance compared to Random Forest in this particular sentiment analysis task.**"
   ]
  },
  {
   "cell_type": "markdown",
   "metadata": {},
   "source": [
    "### Custom sentiment anlaysis in the review"
   ]
  },
  {
   "cell_type": "code",
   "execution_count": 58,
   "metadata": {},
   "outputs": [],
   "source": [
    "text = X.str.cat(sep=' ')"
   ]
  },
  {
   "cell_type": "code",
   "execution_count": 59,
   "metadata": {},
   "outputs": [],
   "source": [
    "def custom_tokenizer(text):\n",
    "    tokens = text.split()\n",
    "    return tokens\n",
    "tokens = custom_tokenizer(text)"
   ]
  },
  {
   "cell_type": "code",
   "execution_count": 60,
   "metadata": {},
   "outputs": [],
   "source": [
    "from nltk.sentiment import SentimentIntensityAnalyzer\n",
    "\n",
    "def keyword_extraction(reviews):\n",
    "    keyword_scores = {}\n",
    "    analyzer = SentimentIntensityAnalyzer()\n",
    "\n",
    "    for review in reviews:\n",
    "        sentiment_scores = analyzer.polarity_scores(review)\n",
    "        words = review.split()\n",
    "        for word in words:\n",
    "            if word not in keyword_scores:\n",
    "                keyword_scores[word] = []\n",
    "            keyword_scores[word].append(sentiment_scores['compound'])\n",
    "\n",
    "    return keyword_scores"
   ]
  },
  {
   "cell_type": "code",
   "execution_count": 61,
   "metadata": {},
   "outputs": [],
   "source": [
    "# Initialize SentimentIntensityAnalyzer\n",
    "analyzer = SentimentIntensityAnalyzer()\n",
    "# Initialize a dictionary to store keyword sentiment scores\n",
    "keyword_scores = {}\n",
    "# Iterate through each word in tokens and apply SentimentIntensityAnalyzer\n",
    "for word in tokens:\n",
    "    sentiment_scores = analyzer.polarity_scores(word)\n",
    "    \n",
    "    if word not in keyword_scores:\n",
    "        keyword_scores[word] = []\n",
    "    keyword_scores[word].append(sentiment_scores['compound'])"
   ]
  },
  {
   "cell_type": "code",
   "execution_count": 62,
   "metadata": {},
   "outputs": [],
   "source": [
    "def positive_negative(keyword_scores, threshold=0.2):\n",
    "    positive_words = []\n",
    "    negative_words = []\n",
    "\n",
    "    for word, scores in keyword_scores.items():\n",
    "        average_score = sum(scores) / len(scores)\n",
    "        if average_score >= threshold:\n",
    "            positive_words.append(word)\n",
    "        elif average_score <= -threshold:\n",
    "            negative_words.append(word)\n",
    "\n",
    "    return positive_words, negative_words"
   ]
  },
  {
   "cell_type": "code",
   "execution_count": 66,
   "metadata": {},
   "outputs": [
    {
     "name": "stdout",
     "output_type": "stream",
     "text": [
      "Positive words: ['certain', 'cool', 'impress', 'like', 'consent', 'fan', 'true', 'nice', 'talent', 'grace', 'well', 'hope', 'entertain', 'great', 'faith', 'enjoy', 'novel', 'astound', 'good', 'special', 'vigor', 'better', 'greatest', 'care', 'play', 'allow', 'kind', 'superior', 'hooray', 'laughter', 'diamond', 'sure', 'fun', 'magnific', 'attract', 'god', 'brilliant', 'friend', 'glad', 'curious', 'straight', 'success', 'comedian', 'clear', 'support', 'superb', 'top', 'recommend', 'warmth', 'love', 'best', 'ok', 'credit', 'hand', 'wise', 'dream', 'gain', 'interest', 'award', 'worth', 'ha', 'laugh', 'yeah', 'excel', 'strong', 'vital', 'bless', 'fine', 'treat', 'fair', 'grant', 'grand', 'hero', 'wow', 'protect', 'easier', 'survivor', 'comfort', 'pleasant', 'lover', 'vision', 'save', 'accept', 'wish', 'passion', 'win', 'humor', 'joke', 'commit', 'benefit', 'applaud', 'trust', 'charm', 'delight', 'help', 'clever', 'stronger', 'super', 'fame', 'okay', 'popular', 'favour', 'truth', 'rich', 'fit', 'silliest', 'admit', 'pride', 'kiss', 'funniest', 'gift', 'sweetheart', 'thrill', 'succeed', 'free', 'join', 'clean', 'huge', 'strongest', 'humour', 'swift', 'highlight', 'perfect', 'enthusiasm', 'smart', 'smile', 'joy', 'retreat', 'splendid', 'jp', 'greater', 'accomplish', 'share', 'compassion', 'relax', 'cute', 'proud', 'strength', 'glee', 'thank', 'bright', 'compliment', 'richest', 'warm', 'merit', 'sweet', 'funnier', 'honor', 'richer', 'creation', 'heaven', 'fresh', 'respect', 'brave', 'triumph', 'winning', 'safe', 'luck', 'heroic', 'casual', 'safeguard', 'favor', 'prize', 'ideal', 'progress', 'bliss', 'greet', 'marvel', 'ty', 'splendor', 'forgiven', 'eager', 'smug', 'commend', 'champion', 'championship', 'worship', 'holiday', 'reward', 'keen', 'wisdom', 'friendship', 'yep', 'cheer', 'bold', 'hallelujah', 'glamor', 'doubtless', 'cheerlead', 'helper', 'freedom', 'pray', 'alert', 'vibrant', 'alright', 'expand', 'dear', 'honest', 'aok', 'enthusiast', 'winner', 'relief', 'spark', 'freeman', 'xp', 'flawless', 'profit', 'faultless', 'urgent', 'giver', 'avid', 'jewel', 'cherish', 'lol', 'brighter', 'neat', 'woo', 'pleaser', 'robust', 'heartfelt', 'adorn', 'easiest', 'grin', 'calm', 'bargain', 'harmless', 'romantic', 'earnest', 'prospect', 'haha', 'intellect', 'fond', 'successor', 'buoyant', 'amor', 'enlighten', 'freed', 'brighten', 'loyal', 'chic', 'yay', 'boost', 'intelligentsia', 'wealth', 'smiley', 'prettier', 'medal', 'champ', 'sillier', 'fervent', 'jokey', 'gleeful', 'vigour', 'optimist', 'charmer', 'warmer', 'dearest', 'pardon', 'smarter', 'ardent', 'beautician', 'acquit', 'kinder', 'perfectionist', 'growth', 'cutest', 'agreement', 'fave', 'virtuoso', 'ff', 'libertarian', 'happier', 'intact', 'fab', 'gracious', 'asset', 'wiser', 'affection', 'grandeur', 'heroism', 'fyi', 'tx', 'glamour', 'debonair', 'jt', 'devote', 'nicer', 'idealist', 'truer', 'benign', 'troubleshoot', 'lighthearted', 'jj', 'radiant', 'kewl', 'proudest', 'xd', 'safer', 'triumphant', 'brightest', 'salient', 'friendlier', 'grateful', 'wisest', 'hug', 'gentler', 'tia', 'fearless', 'honour', 'cleverest', 'humorist', 'wealthier', 'bolder', 'desire', 'gallant', 'grander', 'impression', 'gorgeous', 'glorious', 'genial', 'ilu', 'benefic', 'partier', 'rotflmao', 'fad', 'supremo', 'fav', 'jovial', 'foolproof', 'bonus', 'prettiest', 'funner', 'qt', 'heavenward', 'beaut', 'hak', 'hahaha', 'wealthiest', 'trueness', 'neatest', 'vitamin', 'cuter', 'luckiest', 'hurrah', 'merriest', 'strengthen', 'splendour', 'roflmao', 'thx', 'joyous', 'beautiful', 'laugher', 'calmer', 'powerful', 'happiest', 'nicest', 'steadfast', 'funnest', 'grandest', 'mirth', 'lmao', 'convinced', 'wells', 'euphoria', 'truest', 'hurray', 'merriment', 'bff', 'impressionist', 'kudos', 'merrier', 'painless', 'smartest', 'vip', 'godsend', 'sincerest', 'kissing', 'surer', 'livelihood', 'wonderful', 'woot', 'wd', 'lenient', 'bravest', 'loving', 'gg', 'prouder', 'rofl', 'smarten', 'liveliest', 'excellent', 'tgif', 'handsomest', 'woohoo', 'jw', 'gt', 'admire', 'friendliest', 'freeform', 'spirited', 'wilco', 'loyalist', 'prepared', 'dauntless', 'boldest', 'adore', 'outreach', 'surest', 'freer', 'warmhearted', 'meaningful', 'kk', 'original', 'sunniest', 'sunnier', 'freedman', 'gentlest', 'useful', 'precious', 'gla', 'warmest', 'perfection', 'ez', 'kisser', 'mwah', 'cheerio', 'supporter', 'funnyman', 'beautifulest', 'safest', 'luckier', 'smiler']\n"
     ]
    }
   ],
   "source": [
    "positive_words, negative_words = positive_negative(keyword_scores)\n",
    "print(\"Positive words:\", positive_words)"
   ]
  },
  {
   "cell_type": "code",
   "execution_count": 68,
   "metadata": {},
   "outputs": [
    {
     "name": "stdout",
     "output_type": "stream",
     "text": [
      "Negative words: ['odd', 'bad', 'hate', 'bore', 'egotist', 'dead', 'rant', 'stupid', 'liar', 'war', 'critic', 'restrict', 'attack', 'fight', 'danger', 'scare', 'violent', 'stuck', 'imperfect', 'lack', 'fear', 'pervert', 'sick', 'brutal', 'smuggler', 'fire', 'retard', 'hurt', 'evil', 'witch', 'drag', 'avoid', 'gun', 'lost', 'worst', 'mad', 'shameless', 'interrupt', 'problem', 'ill', 'horror', 'insult', 'worthless', 'disturb', 'lose', 'depress', 'poor', 'disappoint', 'low', 'dull', 'suck', 'damn', 'doubt', 'forget', 'loss', 'trap', 'murder', 'scandal', 'shoot', 'uncertain', 'derail', 'lame', 'frighten', 'kill', 'stink', 'killer', 'tension', 'crap', 'die', 'victim', 'pain', 'accident', 'conflict', 'wrong', 'expel', 'difficult', 'insipid', 'embarrass', 'cheat', 'sad', 'dire', 'betray', 'rude', 'crude', 'cynic', 'disrespect', 'tragic', 'poison', 'miser', 'disgust', 'dupe', 'suffer', 'ruin', 'dumb', 'steal', 'loser', 'cruel', 'suspect', 'boredom', 'harass', 'fool', 'slut', 'abandon', 'hell', 'suspicion', 'shame', 'bomb', 'punish', 'error', 'rob', 'unkind', 'scream', 'puke', 'fatal', 'heartbreak', 'weakest', 'torn', 'disappear', 'crime', 'threaten', 'arrest', 'stop', 'dump', 'rape', 'block', 'harsh', 'idiot', 'death', 'freak', 'spite', 'greed', 'anger', 'fail', 'vain', 'paranoia', 'broken', 'weep', 'weak', 'distract', 'beaten', 'gag', 'debt', 'villain', 'heroin', 'devil', 'prison', 'ugh', 'cut', 'annoy', 'fallen', 'hater', 'phobic', 'crash', 'upset', 'destroy', 'selfish', 'regret', 'fiasco', 'sadden', 'numb', 'blind', 'cancel', 'paranoid', 'clueless', 'rage', 'harm', 'haunt', 'po', 'defeat', 'stab', 'stammer', 'inferior', 'gross', 'dread', 'fake', 'lowest', 'tumor', 'pessimist', 'terror', 'smother', 'timid', 'rapist', 'blame', 'stolen', 'thief', 'fright', 'pu', 'shylock', 'guilt', 'ghost', 'complaint', 'moron', 'reject', 'stress', 'sluggish', 'boring', 'drop', 'hardship', 'worn', 'weaker', 'propaganda', 'hellish', 'aggress', 'powerless', 'stinko', 'doomsday', 'combat', 'lower', 'forgotten', 'cancer', 'terrorist', 'bother', 'stinker', 'horrid', 'vile', 'broke', 'risk', 'grave', 'dismal', 'censor', 'ban', 'complain', 'flop', 'shock', 'suspend', 'assault', 'shyster', 'feud', 'slam', 'geek', 'forbidden', 'mess', 'bitter', 'darkest', 'fag', 'fu', 'repress', 'molest', 'delay', 'drunk', 'childish', 'unclear', 'careless', 'disillusion', 'whine', 'devilish', 'wreck', 'havoc', 'woe', 'fault', 'sorrow', 'weeper', 'misunderstood', 'threat', 'anguish', 'mourn', 'neglect', 'dumber', 'doom', 'toothless', 'sucker', 'robber', 'distort', 'racist', 'struck', 'distrust', 'heartless', 'woeful', 'leak', 'slash', 'racism', 'somber', 'offend', 'bullshit', 'weapon', 'grim', 'nastier', 'panic', 'grief', 'trite', 'misunderstand', 'helpless', 'hopeless', 'cramp', 'discard', 'mindless', 'rotten', 'foe', 'cheerless', 'exhaust', 'nerd', 'coward', 'meaningless', 'lament', 'treason', 'sin', 'goddamn', 'mistaken', 'dirt', 'wimp', 'unfair', 'ass', 'talentless', 'despair', 'drown', 'protest', 'peril', 'stall', 'temper', 'stupidest', 'decay', 'mock', 'lone', 'loner', 'snafu', 'chagrin', 'jerk', 'fought', 'argument', 'dick', 'sarcasm', 'uptight', 'destruct', 'dumbass', 'whore', 'cruelest', 'inhibit', 'shrew', 'distraught', 'masochist', 'disregard', 'bastard', 'sob', 'jackass', 'reek', 'scumbag', 'mischief', 'dumbest', 'disquiet', 'lamest', 'snob', 'foolish', 'fraud', 'trickster', 'scarecrow', 'sore', 'dud', 'riot', 'saddest', 'teaser', 'anti', 'disdain', 'bribe', 'scam', 'scorn', 'flunk', 'bitch', 'skeptic', 'resign', 'wtf', 'overload', 'deceit', 'antagonist', 'lurk', 'contradict', 'stubborn', 'battlefield', 'lag', 'snobbish', 'condemn', 'fascist', 'maniac', 'frantic', 'ugliest', 'poorest', 'graveyard', 'defect', 'trauma', 'stunk', 'contempt', 'useless', 'sluttiest', 'restless', 'ennui', 'poorer', 'chaotic', 'anxious', 'phobia', 'dishearten', 'fuck', 'louse', 'hoax', 'weirdo', 'hapless', 'loom', 'nag', 'charmless', 'detain', 'no', 'overweight', 'choke', 'overreact', 'stealer', 'boycott', 'burden', 'furious', 'bummer', 'stank', 'unjust', 'sullen', 'rancid', 'turmoil', 'scapegoat', 'zealot', 'totalitarian', 'sicken', 'forbid', 'bankrupt', 'deject', 'banish', 'dirtiest', 'spiritless', 'discord', 'dearth', 'dx', 'alarm', 'dork', 'dorkiest', 'hysteria', 'battleground', 'flu', 'dumbstruck', 'shakedown', 'aghast', 'stricken', 'cruder', 'miserably', 'reckless', 'duller', 'graver', 'sadder', 'piss', 'lowbrow', 'wowser', 'lamer', 'gloom', 'nervous', 'defiant', 'shit', 'dismay', 'dishonest', 'stench', 'dullard', 'shyness', 'freakiest', 'mope', 'distress', 'murderess', 'wiseass', 'discomfort', 'rash', 'vicious', 'passionless', 'mia', 'humorless', 'screwup', 'fume', 'hunger', 'scold', 'gloomier', 'smear', 'hooligan', 'freakish', 'grievous', 'downcast', 'pity', 'weaken', 'feudal', 'weirdest', 'grouch', 'uglier', 'smog', 'lowliest', 'dullest', 'worsen', 'crueler', 'cheater', 'deficit', 'crudest', 'nastiest', 'scarey', 'joyless', 'faggot', 'whiner', 'harsher', 'tantrum', 'emptiest', 'glum', 'sluttish', 'lowlight', 'wicked', 'painful', 'mourner', 'bitchy', 'stutter', 'sceptic', 'kia', 'defenseless', 'isolation', 'lawsuit', 'denier', 'aggressor', 'prick', 'killjoy', 'freakout', 'walkout', 'grime', 'thoughtless', 'defer', 'worser', 'abhor', 'defeatist', 'lousier', 'crestfallen', 'jealous', 'tard', 'douchebag', 'cruellest', 'doubter', 'angrier', 'misread', 'comedown', 'grossest', 'spam', 'pileup', 'incompetent', 'goddam', 'lamebrain', 'luckless', 'laziest', 'friendless', 'snub', 'heartbroken', 'deadlock', 'grimmer', 'whiney', 'dubious', 'fubar', 'lousiest', 'pita', 'suicide', 'contagion', 'lowdown', 'wth', 'paranoiac', 'dullish', 'dreadful', 'wimpiest', 'madder', 'riskiest', 'piteous', 'damned', 'disaster', 'rudest', 'mofo', 'wept', 'nosey', 'cancelled', 'retarded', 'awol', 'gravest', 'pitiless', 'twat', 'disjointed', 'mooch', 'dirtier', 'trickiest', 'contradictor', 'awful', 'griever', 'evilest', 'tired', 'faithless', 'freeload', 'screwiest', 'screwer', 'dumbfounded', 'shittier', 'chucklehead', 'sux', 'neurotic', 'appalling', 'harshest', 'shameful', 'ruinous', 'remorseless', 'grimmest', 'damnit', 'fud', 'doa', 'hurter', 'fraudster', 'dumper', 'nigger', 'huckster', 'snobbism', 'silliness', 'shyer', 'wimpish', 'pathetical', 'stinkpot', 'worrywart', 'lowish']\n"
     ]
    }
   ],
   "source": [
    "print(\"Negative words:\", negative_words)"
   ]
  },
  {
   "cell_type": "code",
   "execution_count": 69,
   "metadata": {},
   "outputs": [
    {
     "data": {
      "image/png": "[encoded data removed]",
      "text/plain": [
       "<Figure size 432x288 with 1 Axes>"
      ]
     },
     "metadata": {
      "needs_background": "light"
     },
     "output_type": "display_data"
    }
   ],
   "source": [
    "def sentiment_analysis(positive_words, negative_words):\n",
    "    positive_counts = len(positive_words)\n",
    "    negative_counts = len(negative_words)\n",
    "\n",
    "    plt.bar(['Positive', 'Negative'], [positive_counts, negative_counts])\n",
    "    plt.xlabel('Sentiment')\n",
    "    plt.ylabel('Count')\n",
    "    plt.title('Sentiment Distribution')\n",
    "    plt.show()\n",
    "\n",
    "# Replace positive_words and negative_words with your actual lists of positive and negative words\n",
    "your_positive_words = ['certain', 'cool', 'impress', 'like', 'consent', 'fan', 'true', 'nice', 'talent', 'grace', 'well', 'hope', 'entertain', 'great', 'faith', 'enjoy', 'novel', 'astound', 'good', 'special', 'vigor', 'better', 'greatest', 'care', 'play', 'allow', 'kind', 'superior', 'hooray', 'laughter', 'diamond', 'sure', 'fun', 'magnific', 'attract', 'god', 'brilliant', 'friend', 'glad', 'curious', 'straight', 'success', 'comedian', 'clear', 'support', 'superb', 'top', 'recommend', 'warmth', 'love', 'best', 'ok', 'credit', 'hand', 'wise', 'dream', 'gain', 'interest', 'award', 'worth', 'ha', 'laugh', 'yeah', 'excel', 'strong', 'vital', 'bless', 'fine', 'treat', 'fair', 'grant', 'grand', 'hero', 'wow', 'protect', 'easier', 'survivor', 'comfort', 'pleasant', 'lover', 'vision', 'save', 'accept', 'wish', 'passion', 'win', 'humor', 'joke', 'commit', 'benefit', 'applaud', 'trust', 'charm', 'delight', 'help', 'clever', 'stronger', 'super', 'fame', 'okay', 'popular', 'favour', 'truth', 'rich', 'fit', 'silliest', 'admit', 'pride', 'kiss', 'funniest', 'gift', 'sweetheart', 'thrill', 'succeed', 'free', 'join', 'clean', 'huge', 'strongest', 'humour', 'swift', 'highlight', 'perfect', 'enthusiasm', 'smart', 'smile', 'joy', 'retreat', 'splendid', 'jp', 'greater', 'accomplish', 'share', 'compassion', 'relax', 'cute', 'proud', 'strength', 'glee', 'thank', 'bright', 'compliment', 'richest', 'warm', 'merit', 'sweet', 'funnier', 'honor', 'richer', 'creation', 'heaven', 'fresh', 'respect', 'brave', 'triumph', 'winning', 'safe', 'luck', 'heroic', 'casual', 'safeguard', 'favor', 'prize', 'ideal', 'progress', 'bliss', 'greet', 'marvel', 'ty', 'splendor', 'forgiven', 'eager', 'smug', 'commend', 'champion', 'championship', 'worship', 'holiday', 'reward', 'keen', 'wisdom', 'friendship', 'yep', 'cheer', 'bold', 'hallelujah', 'glamor', 'doubtless', 'cheerlead', 'helper', 'freedom', 'pray', 'alert', 'vibrant', 'alright', 'expand', 'dear', 'honest', 'aok', 'enthusiast', 'winner', 'relief', 'spark', 'freeman', 'xp', 'flawless', 'profit', 'faultless', 'urgent', 'giver', 'avid', 'jewel', 'cherish', 'lol', 'brighter', 'neat', 'woo', 'pleaser', 'robust', 'heartfelt', 'adorn', 'easiest', 'grin', 'calm', 'bargain', 'harmless', 'romantic', 'earnest', 'prospect', 'haha', 'intellect', 'fond', 'successor', 'buoyant', 'amor', 'enlighten', 'freed', 'brighten', 'loyal', 'chic', 'yay', 'boost', 'intelligentsia', 'wealth', 'smiley', 'prettier', 'medal', 'champ', 'sillier', 'fervent', 'jokey', 'gleeful', 'vigour', 'optimist', 'charmer', 'warmer', 'dearest', 'pardon', 'smarter', 'ardent', 'beautician', 'acquit', 'kinder', 'perfectionist', 'growth', 'cutest', 'agreement', 'fave', 'virtuoso', 'ff', 'libertarian', 'happier', 'intact', 'fab', 'gracious', 'asset', 'wiser', 'affection', 'grandeur', 'heroism', 'fyi', 'tx', 'glamour', 'debonair', 'jt', 'devote', 'nicer', 'idealist', 'truer', 'benign', 'troubleshoot', 'lighthearted', 'jj', 'radiant', 'kewl', 'proudest', 'xd', 'safer', 'triumphant', 'brightest', 'salient', 'friendlier', 'grateful', 'wisest', 'hug', 'gentler', 'tia', 'fearless', 'honour', 'cleverest', 'humorist', 'wealthier', 'bolder', 'desire', 'gallant', 'grander', 'impression', 'gorgeous', 'glorious', 'genial', 'ilu', 'benefic', 'partier', 'rotflmao', 'fad', 'supremo', 'fav', 'jovial', 'foolproof', 'bonus', 'prettiest', 'funner', 'qt', 'heavenward', 'beaut', 'hak', 'hahaha', 'wealthiest', 'trueness', 'neatest', 'vitamin', 'cuter', 'luckiest', 'hurrah', 'merriest', 'strengthen', 'splendour', 'roflmao', 'thx', 'joyous', 'beautiful', 'laugher', 'calmer', 'powerful', 'happiest', 'nicest', 'steadfast', 'funnest', 'grandest', 'mirth', 'lmao', 'convinced', 'wells', 'euphoria', 'truest', 'hurray', 'merriment', 'bff', 'impressionist', 'kudos', 'merrier', 'painless', 'smartest', 'vip', 'godsend', 'sincerest', 'kissing', 'surer', 'livelihood', 'wonderful', 'woot', 'wd', 'lenient', 'bravest', 'loving', 'gg', 'prouder', 'rofl', 'smarten', 'liveliest', 'excellent', 'tgif', 'handsomest', 'woohoo', 'jw', 'gt', 'admire', 'friendliest', 'freeform', 'spirited', 'wilco', 'loyalist', 'prepared', 'dauntless', 'boldest', 'adore', 'outreach', 'surest', 'freer', 'warmhearted', 'meaningful', 'kk', 'original', 'sunniest', 'sunnier', 'freedman', 'gentlest', 'useful', 'precious', 'gla', 'warmest', 'perfection', 'ez', 'kisser', 'mwah', 'cheerio', 'supporter', 'funnyman', 'beautifulest', 'safest', 'luckier', 'smiler']\n",
    "your_negative_words = ['odd', 'bad', 'hate', 'bore', 'egotist', 'dead', 'rant', 'stupid', 'liar', 'war', 'critic', 'restrict', 'attack', 'fight', 'danger', 'scare', 'violent', 'stuck', 'imperfect', 'lack', 'fear', 'pervert', 'sick', 'brutal', 'smuggler', 'fire', 'retard', 'hurt', 'evil', 'witch', 'drag', 'avoid', 'gun', 'lost', 'worst', 'mad', 'shameless', 'interrupt', 'problem', 'ill', 'horror', 'insult', 'worthless', 'disturb', 'lose', 'depress', 'poor', 'disappoint', 'low', 'dull', 'suck', 'damn', 'doubt', 'forget', 'loss', 'trap', 'murder', 'scandal', 'shoot', 'uncertain', 'derail', 'lame', 'frighten', 'kill', 'stink', 'killer', 'tension', 'crap', 'die', 'victim', 'pain', 'accident', 'conflict', 'wrong', 'expel', 'difficult', 'insipid', 'embarrass', 'cheat', 'sad', 'dire', 'betray', 'rude', 'crude', 'cynic', 'disrespect', 'tragic', 'poison', 'miser', 'disgust', 'dupe', 'suffer', 'ruin', 'dumb', 'steal', 'loser', 'cruel', 'suspect', 'boredom', 'harass', 'fool', 'slut', 'abandon', 'hell', 'suspicion', 'shame', 'bomb', 'punish', 'error', 'rob', 'unkind', 'scream', 'puke', 'fatal', 'heartbreak', 'weakest', 'torn', 'disappear', 'crime', 'threaten', 'arrest', 'stop', 'dump', 'rape', 'block', 'harsh', 'idiot', 'death', 'freak', 'spite', 'greed', 'anger', 'fail', 'vain', 'paranoia', 'broken', 'weep', 'weak', 'distract', 'beaten', 'gag', 'debt', 'villain', 'heroin', 'devil', 'prison', 'ugh', 'cut', 'annoy', 'fallen', 'hater', 'phobic', 'crash', 'upset', 'destroy', 'selfish', 'regret', 'fiasco', 'sadden', 'numb', 'blind', 'cancel', 'paranoid', 'clueless', 'rage', 'harm', 'haunt', 'po', 'defeat', 'stab', 'stammer', 'inferior', 'gross', 'dread', 'fake', 'lowest', 'tumor', 'pessimist', 'terror', 'smother', 'timid', 'rapist', 'blame', 'stolen', 'thief', 'fright', 'pu', 'shylock', 'guilt', 'ghost', 'complaint', 'moron', 'reject', 'stress', 'sluggish', 'boring', 'drop', 'hardship', 'worn', 'weaker', 'propaganda', 'hellish', 'aggress', 'powerless', 'stinko', 'doomsday', 'combat', 'lower', 'forgotten', 'cancer', 'terrorist', 'bother', 'stinker', 'horrid', 'vile', 'broke', 'risk', 'grave', 'dismal', 'censor', 'ban', 'complain', 'flop', 'shock', 'suspend', 'assault', 'shyster', 'feud', 'slam', 'geek', 'forbidden', 'mess', 'bitter', 'darkest', 'fag', 'fu', 'repress', 'molest', 'delay', 'drunk', 'childish', 'unclear', 'careless', 'disillusion', 'whine', 'devilish', 'wreck', 'havoc', 'woe', 'fault', 'sorrow', 'weeper', 'misunderstood', 'threat', 'anguish', 'mourn', 'neglect', 'dumber', 'doom', 'toothless', 'sucker', 'robber', 'distort', 'racist', 'struck', 'distrust', 'heartless', 'woeful', 'leak', 'slash', 'racism', 'somber', 'offend', 'bullshit', 'weapon', 'grim', 'nastier', 'panic', 'grief', 'trite', 'misunderstand', 'helpless', 'hopeless', 'cramp', 'discard', 'mindless', 'rotten', 'foe', 'cheerless', 'exhaust', 'nerd', 'coward', 'meaningless', 'lament', 'treason', 'sin', 'goddamn', 'mistaken', 'dirt', 'wimp', 'unfair', 'ass', 'talentless', 'despair', 'drown', 'protest', 'peril', 'stall', 'temper', 'stupidest', 'decay', 'mock', 'lone', 'loner', 'snafu', 'chagrin', 'jerk', 'fought', 'argument', 'dick', 'sarcasm', 'uptight', 'destruct', 'dumbass', 'whore', 'cruelest', 'inhibit', 'shrew', 'distraught', 'masochist', 'disregard', 'bastard', 'sob', 'jackass', 'reek', 'scumbag', 'mischief', 'dumbest', 'disquiet', 'lamest', 'snob', 'foolish', 'fraud', 'trickster', 'scarecrow', 'sore', 'dud', 'riot', 'saddest', 'teaser', 'anti', 'disdain', 'bribe', 'scam', 'scorn', 'flunk', 'bitch', 'skeptic', 'resign', 'wtf', 'overload', 'deceit', 'antagonist', 'lurk', 'contradict', 'stubborn', 'battlefield', 'lag', 'snobbish', 'condemn', 'fascist', 'maniac', 'frantic', 'ugliest', 'poorest', 'graveyard', 'defect', 'trauma', 'stunk', 'contempt', 'useless', 'sluttiest', 'restless', 'ennui', 'poorer', 'chaotic', 'anxious', 'phobia', 'dishearten', 'fuck', 'louse', 'hoax', 'weirdo', 'hapless', 'loom', 'nag', 'charmless', 'detain', 'no', 'overweight', 'choke', 'overreact', 'stealer', 'boycott', 'burden', 'furious', 'bummer', 'stank', 'unjust', 'sullen', 'rancid', 'turmoil', 'scapegoat', 'zealot', 'totalitarian', 'sicken', 'forbid', 'bankrupt', 'deject', 'banish', 'dirtiest', 'spiritless', 'discord', 'dearth', 'dx', 'alarm', 'dork', 'dorkiest', 'hysteria', 'battleground', 'flu', 'dumbstruck', 'shakedown', 'aghast', 'stricken', 'cruder', 'miserably', 'reckless', 'duller', 'graver', 'sadder', 'piss', 'lowbrow', 'wowser', 'lamer', 'gloom', 'nervous', 'defiant', 'shit', 'dismay', 'dishonest', 'stench', 'dullard', 'shyness', 'freakiest', 'mope', 'distress', 'murderess', 'wiseass', 'discomfort', 'rash', 'vicious', 'passionless', 'mia', 'humorless', 'screwup', 'fume', 'hunger', 'scold', 'gloomier', 'smear', 'hooligan', 'freakish', 'grievous', 'downcast', 'pity', 'weaken', 'feudal', 'weirdest', 'grouch', 'uglier', 'smog', 'lowliest', 'dullest', 'worsen', 'crueler', 'cheater', 'deficit', 'crudest', 'nastiest', 'scarey', 'joyless', 'faggot', 'whiner', 'harsher', 'tantrum', 'emptiest', 'glum', 'sluttish', 'lowlight', 'wicked', 'painful', 'mourner', 'bitchy', 'stutter', 'sceptic', 'kia', 'defenseless', 'isolation', 'lawsuit', 'denier', 'aggressor', 'prick', 'killjoy', 'freakout', 'walkout', 'grime', 'thoughtless', 'defer', 'worser', 'abhor', 'defeatist', 'lousier', 'crestfallen', 'jealous', 'tard', 'douchebag', 'cruellest', 'doubter', 'angrier', 'misread', 'comedown', 'grossest', 'spam', 'pileup', 'incompetent', 'goddam', 'lamebrain', 'luckless', 'laziest', 'friendless', 'snub', 'heartbroken', 'deadlock', 'grimmer', 'whiney', 'dubious', 'fubar', 'lousiest', 'pita', 'suicide', 'contagion', 'lowdown', 'wth', 'paranoiac', 'dullish', 'dreadful', 'wimpiest', 'madder', 'riskiest', 'piteous', 'damned', 'disaster', 'rudest', 'mofo', 'wept', 'nosey', 'cancelled', 'retarded', 'awol', 'gravest', 'pitiless', 'twat', 'disjointed', 'mooch', 'dirtier', 'trickiest', 'contradictor', 'awful', 'griever', 'evilest', 'tired', 'faithless', 'freeload', 'screwiest', 'screwer', 'dumbfounded', 'shittier', 'chucklehead', 'sux', 'neurotic', 'appalling', 'harshest', 'shameful', 'ruinous', 'remorseless', 'grimmest', 'damnit', 'fud', 'doa', 'hurter', 'fraudster', 'dumper', 'nigger', 'huckster', 'snobbism', 'silliness', 'shyer', 'wimpish', 'pathetical', 'stinkpot', 'worrywart', 'lowish']\n",
    "\n",
    "# Call the sentiment_analysis function and provide the positive_words and negative_words as arguments\n",
    "sentiment_analysis(your_positive_words, your_negative_words)"
   ]
  },
  {
   "cell_type": "markdown",
   "metadata": {},
   "source": [
    "                                                      -***-"
   ]
  }
 ],
 "metadata": {
  "kernelspec": {
   "display_name": "Python 3",
   "language": "python",
   "name": "python3"
  },
  "language_info": {
   "codemirror_mode": {
    "name": "ipython",
    "version": 3
   },
   "file_extension": ".py",
   "mimetype": "text/x-python",
   "name": "python",
   "nbconvert_exporter": "python",
   "pygments_lexer": "ipython3",
   "version": "3.8.5"
  }
 },
 "nbformat": 4,
 "nbformat_minor": 4
}
